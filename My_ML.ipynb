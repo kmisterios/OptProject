{
 "cells": [
  {
   "cell_type": "markdown",
   "metadata": {},
   "source": [
    "#### Попробуем мою реализацию ЯМРК4(5)"
   ]
  },
  {
   "cell_type": "code",
   "execution_count": 256,
   "metadata": {},
   "outputs": [],
   "source": [
    "# -*- coding: utf-8 -*-\n",
    "# from gist: https://gist.github.com/aubricus/f91fb55dc6ba5557fbab06119420dd6a\n",
    "from __future__ import division\n",
    "import sys\n",
    "\n",
    "# Для печати прогресса\n",
    "def print_progress(iteration, total, prefix='', suffix='', decimals=1, bar_length=100):\n",
    "    \"\"\"\n",
    "    Call in a loop to create terminal progress bar\n",
    "\n",
    "    @params:\n",
    "        iteration   - Required  : current iteration (Int)\n",
    "        total       - Required  : total iterations (Int)\n",
    "        prefix      - Optional  : prefix string (Str)\n",
    "        suffix      - Optional  : suffix string (Str)\n",
    "        decimals    - Optional  : positive number of decimals in percent complete (Int)\n",
    "        bar_length  - Optional  : character length of bar (Int)\n",
    "    \"\"\"\n",
    "    str_format = \"{0:.\" + str(decimals) + \"f}\"\n",
    "    percents = str_format.format(100 * (iteration / float(total)))\n",
    "    filled_length = int(round(bar_length * iteration / float(total)))\n",
    "    bar = '█' * filled_length + '-' * (bar_length - filled_length)\n",
    "\n",
    "    sys.stdout.write('\\r%s |%s| %s%s %s' % (prefix, bar, percents, '%', suffix)),\n",
    "\n",
    "    if iteration == total:\n",
    "        sys.stdout.write('\\n')\n",
    "    sys.stdout.flush()"
   ]
  },
  {
   "cell_type": "code",
   "execution_count": 252,
   "metadata": {},
   "outputs": [],
   "source": [
    "%matplotlib inline\n",
    "import matplotlib.pyplot as plt\n",
    "import seaborn\n",
    "import numpy as np\n",
    "import math\n",
    "\n",
    "#здесь задаем функцию\n",
    "def F(x,z, p):\n",
    "    f = np.zeros(3)\n",
    "    f[0] = -np.sin(p)\n",
    "    f[1] = -100 * np.sin(100*z)\n",
    "    f[2] = x\n",
    "    return f"
   ]
  },
  {
   "cell_type": "code",
   "execution_count": 219,
   "metadata": {},
   "outputs": [],
   "source": [
    "#ЯМРК4(5)\n",
    "def ERKM4(x,z,epsilon,h,N):\n",
    "    #для решений\n",
    "    Y4 = np.zeros((3))\n",
    "    Y4 = [x,z,epsilon]\n",
    "    Y5 = np.zeros((3))\n",
    "    Y5 = [x,z,epsilon]\n",
    "    #сюда записываем отыеты для каждой переменной\n",
    "    val1 = [x]\n",
    "    val2 = [z]\n",
    "    val3 = [epsilon]\n",
    "    #точки по времени\n",
    "    arg = [0]\n",
    "    #записываем значение длины шага\n",
    "    featureh = []\n",
    "    #принят, не принят\n",
    "    validwin = []\n",
    "    abstol = reltol = 1.0e-3\n",
    "    #фактор сохранности\n",
    "    fac = 0.8\n",
    "    #границы интегрирования\n",
    "    t = 0\n",
    "    tf = math.pi\n",
    "    #счетчики\n",
    "    acc = 0\n",
    "    rej = 0;\n",
    "    #\n",
    "    while tf - t > 0:\n",
    "        print_progress(int(t/tf*100), 100)\n",
    "        k1 = F(x,z, epsilon)\n",
    "        k2 = F(x + k1[0]/4,z + k1[1]/4, epsilon + k1[2]/4);\n",
    "        k3 = F(x + k1[0]*3/32 + k2[0]*9/32,z + k2[1]*3/32 + k2[1]*9/32, epsilon+ k2[2]*3/32 + k2[2]*9/32);\n",
    "        k4 = F(x + k1[0]*1932/2197 - k2[0]*7200/2197 + k3[0]*7296/2197,z + k1[1]*1932/2197 -\n",
    "                 k2[1]*7200/2197 + k3[1]*7296/2197, epsilon + k1[2]*1932/2197 - k2[2]*7200/2197 + k3[2]*7296/2197);\n",
    "        k5 = F(x + k1[0]* 439/216 - k2[0]*8 + k3[0]*3680/513 - k4[0] *845/4104,z + k1[1]* 439/216 - \n",
    "                 k2[1]*8 + k3[1]*3680/513 - k4[1] *845/4104, epsilon + k1[2]* 439/216 - \n",
    "                 k2[2]*8 + k3[2]*3680/513 - k4[2] *845/4104);\n",
    "        k6 = F(x - k1[0]* 8/27 + k2[0]*2 - k3[0]*3544/2565 + k4[0] *1859/4104 - k5[0]*11/40,z - \n",
    "                 k1[1]* 8/27 + k2[1]*2 - k3[1]*3544/2565 + k4[1] *1859/4104 - k5[1]*11/40, epsilon - \n",
    "                 k1[2]* 8/27 + k2[2]*2 - k3[2]*3544/2565 + k4[2] *1859/4104 - k5[2]*11/40);\n",
    "        Ypred = Y4\n",
    "        #считаем ЯМРК4 и ЯМРК5, чтобы посчитать ошибку между двумя решениями разной точности\n",
    "        Y4 = Y4 + h*(25/216*k1 + 1408/2565*k3 + 2197/4104*k4 - 1/5*k5)\n",
    "        Y5 = Y5 + h*(16/135*k1  + 6656/12825*k3 + 28561/56430*k4 - 9/50*k5 + 2/55*k6)\n",
    "        #считаем ошибку\n",
    "        #err = np.linalg.norm(Y5 - Y4)\n",
    "        yerr = h*(16/135*k1  + 6656/12825*k3 + 28561/56430*k4 - 9/50*k5 + 2/55*k6 - \n",
    "                  (25/216*k1 + 1408/2565*k3 + 2197/4104*k4 - 1/5*k5))\n",
    "        #нормируем ошибку, чтобы удобно было сравнивать\n",
    "        sc   = abstol + np.maximum(np.abs(Ypred), np.abs(Y4)) * reltol\n",
    "        err  = max(np.sqrt(np.sum((yerr / sc)**2)/n), 1.0e-10)\n",
    "        #print(err)\n",
    "        if err <= 1: #тогда шаг нормальный\n",
    "            #записываем решение\n",
    "            x = Y4[0]\n",
    "            val1.append(x)\n",
    "            z = Y4[1]\n",
    "            val2.append(z)\n",
    "            epsilon = Y4[2]\n",
    "            val3.append(epsilon)\n",
    "            arg.append(arg[-1] + h)\n",
    "            #двигаем время\n",
    "            t = t + h\n",
    "            #заполняем датасет\n",
    "            featureh.append(h)\n",
    "            validwin.append(1)\n",
    "            #считаем новое значение h\n",
    "            h = h * min(1.0, max(0.2, fac * (1/err)**(1/5)))\n",
    "            acc += 1\n",
    "        else:\n",
    "            #заполняем датасет\n",
    "            featureh.append(h)\n",
    "            validwin.append(0)\n",
    "            #считаем новое значение h\n",
    "            h = h * min(1.0, max(0.2, fac * (1/err)**(1/5)))\n",
    "            rej += 1;\n",
    "    return arg, val1, val2, val3, featureh, validwin, acc, rej"
   ]
  },
  {
   "cell_type": "code",
   "execution_count": 255,
   "metadata": {
    "scrolled": true
   },
   "outputs": [
    {
     "name": "stdout",
     "output_type": "stream",
     "text": [
      " |███████████████████████████████████████████████████████████████████████████████████████████████████-| 99.0% \n",
      "Accepted steps:  45406\n",
      "Rejected steps 7\n",
      "Time: 44.301340103149414 seconds\n"
     ]
    }
   ],
   "source": [
    "import time\n",
    "start_time = time.time()\n",
    "x = 1\n",
    "z = 1\n",
    "n = 3\n",
    "epsilon = 0\n",
    "N = 1000\n",
    "arg, val1, val2, val3, featureh, validwin, acc, rej = ERKM4(x,z,epsilon,1.0e-2,N)\n",
    "print('')\n",
    "print('Accepted steps: ',acc)\n",
    "print('Rejected steps', rej)\n",
    "print(\"Time: %s seconds\" % (time.time() - start_time))"
   ]
  },
  {
   "cell_type": "code",
   "execution_count": 226,
   "metadata": {},
   "outputs": [
    {
     "data": {
      "text/plain": [
       "['easy_eq_my.joblib']"
      ]
     },
     "execution_count": 226,
     "metadata": {},
     "output_type": "execute_result"
    }
   ],
   "source": [
    "from sklearn.linear_model import LinearRegression\n",
    "featureh = np.array(featureh)\n",
    "#обучаем модель\n",
    "reg = LinearRegression().fit(featureh.reshape(-1,1), validwin)\n",
    "from sklearn.externals import joblib\n",
    "#сохраняем ее\n",
    "joblib.dump(reg, 'easy_eq_my.joblib')"
   ]
  },
  {
   "cell_type": "code",
   "execution_count": 238,
   "metadata": {
    "scrolled": false
   },
   "outputs": [
    {
     "data": {
      "image/png": "[encoded data removed]",
      "text/plain": [
       "<Figure size 864x576 with 1 Axes>"
      ]
     },
     "metadata": {
      "needs_background": "light"
     },
     "output_type": "display_data"
    }
   ],
   "source": [
    "#Строим графики решения системы\n",
    "plt.figure(figsize=(12,8))\n",
    "plt.plot(arg,val1, label=r\"$y_1(t)$\")\n",
    "plt.plot(arg,val2, label=r\"$y_2(t)$\")\n",
    "plt.plot(arg,val3, label=r\"$y_3(t)$\")\n",
    "plt.xlabel(\"Value of parametr, $t$\", fontsize=24)\n",
    "plt.ylabel(\"Solution, $y_i(t)$\", fontsize=24)\n",
    "plt.legend(loc=\"best\", fontsize=20)\n",
    "plt.xticks(fontsize = 20)\n",
    "_ = plt.yticks(fontsize = 20)\n",
    "plt.savefig('my_auto.png')\n",
    "plt.show()"
   ]
  },
  {
   "cell_type": "code",
   "execution_count": 1,
   "metadata": {},
   "outputs": [],
   "source": [
    "#ЯМРК4ML:\n",
    "#Все то же самое, только теперь уменьшаем будущий шаг, если модель говорит, что он будет отвергнут\n",
    "def ERKM4ML(x,z,epsilon,h,N,model):\n",
    "    Y4 = np.zeros((3))\n",
    "    Y4 = [x,z,epsilon]\n",
    "    Y5 = np.zeros((3))\n",
    "    Y5 = [x,z,epsilon]\n",
    "    val1 = [x]\n",
    "    val2 = [z]\n",
    "    val3 = [epsilon]\n",
    "    abstol = reltol = 1.0e-3\n",
    "    #фактор сохранности\n",
    "    fac = 0.8\n",
    "    t = 0\n",
    "    tf = math.pi\n",
    "    acc = 0\n",
    "    rej = 0;\n",
    "    while tf - t > 0:\n",
    "        print_progress(int(t/tf*100), 100)\n",
    "        k1 = F(x,z, epsilon)\n",
    "        k2 = F(x + k1[0]/4,z + k1[1]/4, epsilon + k1[2]/4);\n",
    "        k3 = F(x + k1[0]*3/32 + k2[0]*9/32,z + k2[1]*3/32 + k2[1]*9/32, epsilon+ k2[2]*3/32 + k2[2]*9/32);\n",
    "        k4 = F(x + k1[0]*1932/2197 - k2[0]*7200/2197 + k3[0]*7296/2197,z + k1[1]*1932/2197 -\n",
    "                 k2[1]*7200/2197 + k3[1]*7296/2197, epsilon + k1[2]*1932/2197 - k2[2]*7200/2197 + k3[2]*7296/2197);\n",
    "        k5 = F(x + k1[0]* 439/216 - k2[0]*8 + k3[0]*3680/513 - k4[0] *845/4104,z + k1[1]* 439/216 - \n",
    "                 k2[1]*8 + k3[1]*3680/513 - k4[1] *845/4104, epsilon + k1[2]* 439/216 - \n",
    "                 k2[2]*8 + k3[2]*3680/513 - k4[2] *845/4104);\n",
    "        k6 = F(x - k1[0]* 8/27 + k2[0]*2 - k3[0]*3544/2565 + k4[0] *1859/4104 - k5[0]*11/40,z - \n",
    "                 k1[1]* 8/27 + k2[1]*2 - k3[1]*3544/2565 + k4[1] *1859/4104 - k5[1]*11/40, epsilon - \n",
    "                 k1[2]* 8/27 + k2[2]*2 - k3[2]*3544/2565 + k4[2] *1859/4104 - k5[2]*11/40);\n",
    "        Ypred = Y4\n",
    "        #считаем ЯМРК4 и ЯМРК5, чтобы посчитать ошибку между двумя решениями разной точности\n",
    "        Y4 = Y4 + h*(25/216*k1 + 1408/2565*k3 + 2197/4104*k4 - 1/5*k5)\n",
    "        Y5 = Y5 + h*(16/135*k1  + 6656/12825*k3 + 28561/56430*k4 - 9/50*k5 + 2/55*k6)\n",
    "        #считаем ошибку\n",
    "        yerr = h*(16/135*k1  + 6656/12825*k3 + 28561/56430*k4 - 9/50*k5 + 2/55*k6 - \n",
    "                  (25/216*k1 + 1408/2565*k3 + 2197/4104*k4 - 1/5*k5))\n",
    "        #нормируем ошибку, чтобы удобно было сравнивать\n",
    "        sc   = abstol + np.maximum(np.abs(Ypred), np.abs(Y4)) * reltol\n",
    "        err  = max(np.sqrt(np.sum((yerr / sc)**2)/n), 1.0e-10)\n",
    "        if err <= 1: #тогда шаг нормальный\n",
    "            #записываем решение\n",
    "            x = Y4[0]\n",
    "            val1.append(x)\n",
    "            z = Y4[1]\n",
    "            val2.append(z)\n",
    "            epsilon = Y4[2]\n",
    "            val3.append(epsilon)\n",
    "            arg.append(arg[-1] + h)\n",
    "            t = t + h\n",
    "            #считаем новое значение h\n",
    "            h = h * min(1.0, max(0.2, fac * (1/err)**(1/5)))\n",
    "            #будет ли принят следующий шаг?\n",
    "            acceptnext = model.predict(np.array([[h]]))[0]\n",
    "            #если нет, уменьшаем величину шага\n",
    "            while acceptnext < 1:\n",
    "                h = 0.9*h\n",
    "                acceptnext = model.predict(np.array([[h]]))[0]\n",
    "            acc += 1\n",
    "        else:\n",
    "            h = h * min(1.0, max(0.2, fac * (1/err)**(1/5)))\n",
    "            #будет ли принят следующий шаг?\n",
    "            acceptnext = model.predict(np.array([[h]]))[0]\n",
    "            #если нет, уменьшаем величину шага\n",
    "            while acceptnext < 1:\n",
    "                h = 0.9*h\n",
    "                acceptnext = model.predict(np.array([[h]]))[0]\n",
    "            rej += 1;\n",
    "    return arg, val1, val2, val3, featureh, validwin, acc, rej"
   ]
  },
  {
   "cell_type": "code",
   "execution_count": 232,
   "metadata": {},
   "outputs": [],
   "source": [
    "#для теста модели из оригинальгого метода, где точно так же реализовано обучение\n",
    "reg1 = joblib.load('easy_eq.joblib')"
   ]
  },
  {
   "cell_type": "code",
   "execution_count": 257,
   "metadata": {},
   "outputs": [
    {
     "name": "stdout",
     "output_type": "stream",
     "text": [
      " |███████████████████████████████████████████████████████████████████████████████████████████████████-| 99.0% \n",
      "Accepted steps:  56799\n",
      "Rejected steps 1\n",
      "Time: 63.2522554397583 seconds\n"
     ]
    }
   ],
   "source": [
    "start_time = time.time()\n",
    "x = 1\n",
    "z = 1\n",
    "n = 3\n",
    "epsilon = 0\n",
    "N = 1000\n",
    "arg, val1, val2, val3, featureh, validwin, acc, rej = ERKM4ML(x,z,epsilon,1.0e-2,N,reg)\n",
    "print('')\n",
    "print('Accepted steps: ',acc)\n",
    "print('Rejected steps', rej)\n",
    "print(\"Time: %s seconds\" % (time.time() - start_time))"
   ]
  },
  {
   "cell_type": "code",
   "execution_count": null,
   "metadata": {},
   "outputs": [],
   "source": []
  }
 ],
 "metadata": {
  "kernelspec": {
   "display_name": "Python 3",
   "language": "python",
   "name": "python3"
  },
  "language_info": {
   "codemirror_mode": {
    "name": "ipython",
    "version": 3
   },
   "file_extension": ".py",
   "mimetype": "text/x-python",
   "name": "python",
   "nbconvert_exporter": "python",
   "pygments_lexer": "ipython3",
   "version": "3.7.1"
  }
 },
 "nbformat": 4,
 "nbformat_minor": 2
}
